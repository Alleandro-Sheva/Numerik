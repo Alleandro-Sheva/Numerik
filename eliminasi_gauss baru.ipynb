{
  "nbformat": 4,
  "nbformat_minor": 0,
  "metadata": {
    "colab": {
      "provenance": [],
      "include_colab_link": true
    },
    "kernelspec": {
      "name": "python3",
      "display_name": "Python 3"
    },
    "language_info": {
      "name": "python"
    }
  },
  "cells": [
    {
      "cell_type": "markdown",
      "metadata": {
        "id": "view-in-github",
        "colab_type": "text"
      },
      "source": [
        "<a href=\"https://colab.research.google.com/github/Alleandro-Sheva/Numerik/blob/main/eliminasi_gauss%20baru.ipynb\" target=\"_parent\"><img src=\"https://colab.research.google.com/assets/colab-badge.svg\" alt=\"Open In Colab\"/></a>"
      ]
    },
    {
      "cell_type": "code",
      "execution_count": null,
      "metadata": {
        "id": "C3aJpOzwRswY"
      },
      "outputs": [],
      "source": [
        "import numpy as np"
      ]
    },
    {
      "cell_type": "markdown",
      "source": [
        "untuk menambahkan library numpy"
      ],
      "metadata": {
        "id": "HyVfjrPe9jEv"
      }
    },
    {
      "cell_type": "code",
      "source": [
        "SPL = ([[2,3,-1,5],[4,4,-3,3],[-2,3,-1,1]]) #ini matriksnya\n",
        "print(\"Sistem Persamaan Linear matriks adalah \",SPL)\n",
        "\n",
        "for i in range(len(SPL[1])):  # loop untuk setiap elemen baris ke-2\n",
        "    SPL[1][i] = SPL[1][i] - (2 * SPL[0][i])\n",
        "\n",
        "print(SPL[1][0])\n",
        "print(SPL[1][1])\n",
        "print(SPL[1][2])\n",
        "print(SPL[1][3])"
      ],
      "metadata": {
        "id": "2OKEi3Jq1oE2",
        "outputId": "ad2cba6e-ec67-4230-9620-5fdb2d958379",
        "colab": {
          "base_uri": "https://localhost:8080/"
        }
      },
      "execution_count": null,
      "outputs": [
        {
          "output_type": "stream",
          "name": "stdout",
          "text": [
            "Sistem Persamaan Linear matriks adalah  [[2, 3, -1, 5], [4, 4, -3, 3], [-2, 3, -1, 1]]\n",
            "0\n",
            "-2\n",
            "-1\n",
            "-7\n"
          ]
        }
      ]
    },
    {
      "cell_type": "markdown",
      "source": [
        "For digunakan untuk melooping baris kedua, sehingga baris kedua pada kolom pertama menghasilkan nilai 0"
      ],
      "metadata": {
        "id": "sIbbT0SO9uk2"
      }
    },
    {
      "cell_type": "code",
      "source": [
        "SPL = ([[2,3,-1,5],[4,4,-3,3],[-2,3,-1,1]]) #ini matriksnya\n",
        "print(\"Sistem Persamaan Linear matriks adalah \",SPL)\n",
        "\n",
        "for i in range(4):\n",
        "    SPL[1][i] = SPL[1][i] - (2*SPL[0][i])\n",
        "\n",
        "for i in range(4):\n",
        "    SPL[2][i] = SPL[2][i] - (-1*SPL[0][i])\n",
        "\n",
        "for i in range(3):\n",
        "    SPL[2][i+1] = SPL[2][i+1] - (-3*SPL[1][i+1])\n",
        "\n",
        "SPL"
      ],
      "metadata": {
        "colab": {
          "base_uri": "https://localhost:8080/"
        },
        "id": "js9lGSow2LIs",
        "outputId": "26747bac-e94f-4550-9c7c-91a55de53a0d"
      },
      "execution_count": null,
      "outputs": [
        {
          "output_type": "stream",
          "name": "stdout",
          "text": [
            "Sistem Persamaan Linear matriks adalah  [[2, 3, -1, 5], [4, 4, -3, 3], [-2, 3, -1, 1]]\n"
          ]
        },
        {
          "output_type": "execute_result",
          "data": {
            "text/plain": [
              "[[2, 3, -1, 5], [0, -2, -1, -7], [0, 0, -5, -15]]"
            ]
          },
          "metadata": {},
          "execution_count": 8
        }
      ]
    },
    {
      "cell_type": "markdown",
      "source": [
        "For pertama  digunakan untuk melooping baris kedua, sehingga baris kedua pada kolom pertama menghasilkan nilai 0\n",
        "\n",
        "For Kedua digunakan untuk melooping baris ketiga, sehingga baris ketiga pada kolom pertama menghasilkan nilai 0\n",
        "\n",
        "For ketiga digunakan untuk melooping baris ketiga, kegunaan i+1 agar melompati kolom pertama, sehingga yang dihitung akan dimulai dari kolom kedua dan seterusnya, pada kolom kedua akan bernilai 0"
      ],
      "metadata": {
        "id": "UppcAwRz9-wX"
      }
    },
    {
      "cell_type": "code",
      "source": [
        "x = 0\n",
        "y = 0\n",
        "z = 0\n",
        "\n",
        "\n",
        "for i in range(len(SPL[2]) - 2):\n",
        "    if SPL[2][i+1] != 0:\n",
        "        z =  SPL[2][i+2] / SPL[2][i+1]\n",
        "print (\"Z : \",z)\n",
        "\n",
        "if len(SPL[1]) > 2:\n",
        "    for i in range(len(SPL[1]) - 2):\n",
        "        if SPL[1][i] != 0 and SPL[1][i + 1] != 0:\n",
        "            y = SPL[1][i + 2] - SPL[1][i + 1] * z / SPL[1][i]\n",
        "            print(\"Y :\",y)\n",
        "\n",
        "\n",
        "for i in range (len(SPL[0])-2) :\n",
        "  if SPL [0] [i] != 0 and SPL [0] [i+1] != 0 :\n",
        "    x = SPL [0] [i+2] - SPL [0] [i+1]*z - SPL[0] [0+i]*y / SPL [0] [0]\n",
        "\n",
        "\n",
        "    print(\"X :\",x)"
      ],
      "metadata": {
        "colab": {
          "base_uri": "https://localhost:8080/"
        },
        "id": "ciwrHKDW745H",
        "outputId": "f4df2ae8-f92b-4bd3-eef9-f79a9830bdc3"
      },
      "execution_count": null,
      "outputs": [
        {
          "output_type": "stream",
          "name": "stdout",
          "text": [
            "Z :  3.0\n",
            "Y : -8.5\n",
            "X : -1.5\n",
            "X : 20.75\n"
          ]
        }
      ]
    },
    {
      "cell_type": "markdown",
      "source": [
        "for i in range(len(SPL[2]) - 2), Digunakan untuk melooping, Pengurangan 2 diperlukan untuk memastikan bahwa saat kita mengakses SPL[2][i + 1] dan SPL[2][i + 2], kita tidak melampaui batas list.\n",
        " if SPL[2][i+1] != 0, Digunakan untuk mengecek apakah nilai tidak sama dengan 0, agar waktu pembagian tidak dibagi dengan 0\n",
        "\n",
        " if len(SPL[1]) > 2, untuk memastikan bahwa ada cukup elemen dalam list untuk mengakses indeks i, i + 1, dan i + 2 tanpa menyebabkan IndexError.\n",
        "\n",
        "for i in range(len(SPL[1]) - 2), ini memastikan bahwa saat kita mengakses SPL[1][i + 2], kita tidak melampaui batas list.\n",
        "if SPL[1][i] != 0 and SPL[1][i + 1] != 0, Digunakan untuk mengecek apakah nilai tidak sama dengan 0, agar waktu pembagian tidak dibagi dengan 0\n",
        "\n",
        "for i in range (len(SPL[0])-2),Ini memastikan bahwa saat kita mengakses elemen SPL[0][i + 2], kita tidak melampaui batas list.\n",
        "\n",
        "if SPL [0] [i] != 0 and SPL [0] [i+1] != 0,Digunakan untuk mengecek apakah nilai tidak sama dengan 0, agar waktu pembagian tidak dibagi dengan 0"
      ],
      "metadata": {
        "id": "TqMolDpY-_uc"
      }
    }
  ]
}